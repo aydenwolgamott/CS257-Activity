{
  "cells": [
    {
      "cell_type": "markdown",
      "metadata": {
        "id": "view-in-github",
        "colab_type": "text"
      },
      "source": [
        "<a href=\"https://colab.research.google.com/github/aydenwolgamott/CS257-Activity/blob/main/CS_320_Ayden_Wolgamott_Wine_Linear_Classifiers.ipynb\" target=\"_parent\"><img src=\"https://colab.research.google.com/assets/colab-badge.svg\" alt=\"Open In Colab\"/></a>"
      ]
    },
    {
      "cell_type": "code",
      "source": [
        "# PyTorch is a machine learning framework that provides tools for\n",
        "# building and training neural networks.\n",
        "import torch\n",
        "\n",
        "# Pandas is a library for data manipulation and analysis,\n",
        "# providing data structures like DataFrames.\n",
        "import pandas as pd\n",
        "\n",
        "# NumPy is a library for numerical computing, offering support for\n",
        "# arrays and mathematical functions.\n",
        "import numpy as np\n",
        "\n",
        "# Seaborn is a data visualization library based on Matplotlib,\n",
        "# providing a high-level interface for creating informative and\n",
        "# attractive statistical graphics.\n",
        "import seaborn as sns\n",
        "\n",
        "import matplotlib.pyplot as plt"
      ],
      "metadata": {
        "id": "i9Xr07sXsz5X"
      },
      "id": "i9Xr07sXsz5X",
      "execution_count": 1,
      "outputs": []
    },
    {
      "cell_type": "code",
      "source": [
        "from sklearn.datasets import load_wine\n",
        "\n",
        "# Load the wine dataset\n",
        "wine = load_wine()\n",
        "\n",
        "# Access the data and target\n",
        "X = wine.data\n",
        "y = wine.target\n",
        "\n",
        "# Get feature names and target names\n",
        "feature_names = wine.feature_names\n",
        "target_names = wine.target_names\n",
        "\n",
        "print(f\"Dataset shape: {X.shape}\")\n",
        "print(f\"Number of classes: {len(target_names)}\")\n",
        "print(f\"Features: {feature_names}\")\n",
        "print(f\"Classes: {target_names}\")"
      ],
      "metadata": {
        "colab": {
          "base_uri": "https://localhost:8080/"
        },
        "id": "lU-v6uqAuIC5",
        "outputId": "436be293-05b2-4200-da51-3cabaa54196e"
      },
      "id": "lU-v6uqAuIC5",
      "execution_count": 2,
      "outputs": [
        {
          "output_type": "stream",
          "name": "stdout",
          "text": [
            "Dataset shape: (178, 13)\n",
            "Number of classes: 3\n",
            "Features: ['alcohol', 'malic_acid', 'ash', 'alcalinity_of_ash', 'magnesium', 'total_phenols', 'flavanoids', 'nonflavanoid_phenols', 'proanthocyanins', 'color_intensity', 'hue', 'od280/od315_of_diluted_wines', 'proline']\n",
            "Classes: ['class_0' 'class_1' 'class_2']\n"
          ]
        }
      ]
    },
    {
      "cell_type": "code",
      "source": [
        "pip install ucimlrepo"
      ],
      "metadata": {
        "colab": {
          "base_uri": "https://localhost:8080/"
        },
        "id": "q1ocd076vlRc",
        "outputId": "e656244e-2509-4264-9736-b250d6846556"
      },
      "id": "q1ocd076vlRc",
      "execution_count": 3,
      "outputs": [
        {
          "output_type": "stream",
          "name": "stdout",
          "text": [
            "Collecting ucimlrepo\n",
            "  Downloading ucimlrepo-0.0.7-py3-none-any.whl.metadata (5.5 kB)\n",
            "Requirement already satisfied: pandas>=1.0.0 in /usr/local/lib/python3.10/dist-packages (from ucimlrepo) (2.2.2)\n",
            "Requirement already satisfied: certifi>=2020.12.5 in /usr/local/lib/python3.10/dist-packages (from ucimlrepo) (2024.8.30)\n",
            "Requirement already satisfied: numpy>=1.22.4 in /usr/local/lib/python3.10/dist-packages (from pandas>=1.0.0->ucimlrepo) (1.26.4)\n",
            "Requirement already satisfied: python-dateutil>=2.8.2 in /usr/local/lib/python3.10/dist-packages (from pandas>=1.0.0->ucimlrepo) (2.8.2)\n",
            "Requirement already satisfied: pytz>=2020.1 in /usr/local/lib/python3.10/dist-packages (from pandas>=1.0.0->ucimlrepo) (2024.2)\n",
            "Requirement already satisfied: tzdata>=2022.7 in /usr/local/lib/python3.10/dist-packages (from pandas>=1.0.0->ucimlrepo) (2024.2)\n",
            "Requirement already satisfied: six>=1.5 in /usr/local/lib/python3.10/dist-packages (from python-dateutil>=2.8.2->pandas>=1.0.0->ucimlrepo) (1.16.0)\n",
            "Downloading ucimlrepo-0.0.7-py3-none-any.whl (8.0 kB)\n",
            "Installing collected packages: ucimlrepo\n",
            "Successfully installed ucimlrepo-0.0.7\n"
          ]
        }
      ]
    },
    {
      "cell_type": "code",
      "source": [
        "from ucimlrepo import fetch_ucirepo\n",
        "\n",
        "# fetch dataset\n",
        "wine = fetch_ucirepo(id=109)\n",
        "\n",
        "# data (as pandas dataframes)\n",
        "X = wine.data.features\n",
        "y = wine.data.targets\n",
        "\n",
        "# metadata\n",
        "print(wine.metadata)\n",
        "\n",
        "# variable information\n",
        "print(wine.variables)\n"
      ],
      "metadata": {
        "colab": {
          "base_uri": "https://localhost:8080/"
        },
        "id": "LzqLPjzbvrhK",
        "outputId": "236e9b0e-5b31-47d5-af99-9c9e427314a6"
      },
      "id": "LzqLPjzbvrhK",
      "execution_count": 4,
      "outputs": [
        {
          "output_type": "stream",
          "name": "stdout",
          "text": [
            "{'uci_id': 109, 'name': 'Wine', 'repository_url': 'https://archive.ics.uci.edu/dataset/109/wine', 'data_url': 'https://archive.ics.uci.edu/static/public/109/data.csv', 'abstract': 'Using chemical analysis to determine the origin of wines', 'area': 'Physics and Chemistry', 'tasks': ['Classification'], 'characteristics': ['Tabular'], 'num_instances': 178, 'num_features': 13, 'feature_types': ['Integer', 'Real'], 'demographics': [], 'target_col': ['class'], 'index_col': None, 'has_missing_values': 'no', 'missing_values_symbol': None, 'year_of_dataset_creation': 1992, 'last_updated': 'Mon Aug 28 2023', 'dataset_doi': '10.24432/C5PC7J', 'creators': ['Stefan Aeberhard', 'M. Forina'], 'intro_paper': {'ID': 246, 'type': 'NATIVE', 'title': 'Comparative analysis of statistical pattern recognition methods in high dimensional settings', 'authors': 'S. Aeberhard, D. Coomans, O. Vel', 'venue': 'Pattern Recognition', 'year': 1994, 'journal': None, 'DOI': '10.1016/0031-3203(94)90145-7', 'URL': 'https://www.semanticscholar.org/paper/83dc3e4030d7b9fbdbb4bde03ce12ab70ca10528', 'sha': None, 'corpus': None, 'arxiv': None, 'mag': None, 'acl': None, 'pmid': None, 'pmcid': None}, 'additional_info': {'summary': 'These data are the results of a chemical analysis of wines grown in the same region in Italy but derived from three different cultivars. The analysis determined the quantities of 13 constituents found in each of the three types of wines. \\r\\n\\r\\nI think that the initial data set had around 30 variables, but for some reason I only have the 13 dimensional version. I had a list of what the 30 or so variables were, but a.)  I lost it, and b.), I would not know which 13 variables are included in the set.\\r\\n\\r\\nThe attributes are (dontated by Riccardo Leardi, riclea@anchem.unige.it )\\r\\n1) Alcohol\\r\\n2) Malic acid\\r\\n3) Ash\\r\\n4) Alcalinity of ash  \\r\\n5) Magnesium\\r\\n6) Total phenols\\r\\n7) Flavanoids\\r\\n8) Nonflavanoid phenols\\r\\n9) Proanthocyanins\\r\\n10)Color intensity\\r\\n11)Hue\\r\\n12)OD280/OD315 of diluted wines\\r\\n13)Proline \\r\\n\\r\\nIn a classification context, this is a well posed problem with \"well behaved\" class structures. A good data set for first testing of a new classifier, but not very challenging.           ', 'purpose': 'test', 'funded_by': None, 'instances_represent': None, 'recommended_data_splits': None, 'sensitive_data': None, 'preprocessing_description': None, 'variable_info': 'All attributes are continuous\\r\\n\\t\\r\\nNo statistics available, but suggest to standardise variables for certain uses (e.g. for us with classifiers which are NOT scale invariant)\\r\\n\\r\\nNOTE: 1st attribute is class identifier (1-3)', 'citation': None}}\n",
            "                            name     role         type demographic  \\\n",
            "0                          class   Target  Categorical        None   \n",
            "1                        Alcohol  Feature   Continuous        None   \n",
            "2                      Malicacid  Feature   Continuous        None   \n",
            "3                            Ash  Feature   Continuous        None   \n",
            "4              Alcalinity_of_ash  Feature   Continuous        None   \n",
            "5                      Magnesium  Feature      Integer        None   \n",
            "6                  Total_phenols  Feature   Continuous        None   \n",
            "7                     Flavanoids  Feature   Continuous        None   \n",
            "8           Nonflavanoid_phenols  Feature   Continuous        None   \n",
            "9                Proanthocyanins  Feature   Continuous        None   \n",
            "10               Color_intensity  Feature   Continuous        None   \n",
            "11                           Hue  Feature   Continuous        None   \n",
            "12  0D280_0D315_of_diluted_wines  Feature   Continuous        None   \n",
            "13                       Proline  Feature      Integer        None   \n",
            "\n",
            "   description units missing_values  \n",
            "0         None  None             no  \n",
            "1         None  None             no  \n",
            "2         None  None             no  \n",
            "3         None  None             no  \n",
            "4         None  None             no  \n",
            "5         None  None             no  \n",
            "6         None  None             no  \n",
            "7         None  None             no  \n",
            "8         None  None             no  \n",
            "9         None  None             no  \n",
            "10        None  None             no  \n",
            "11        None  None             no  \n",
            "12        None  None             no  \n",
            "13        None  None             no  \n"
          ]
        }
      ]
    },
    {
      "cell_type": "code",
      "execution_count": 6,
      "metadata": {
        "colab": {
          "base_uri": "https://localhost:8080/",
          "height": 1000
        },
        "id": "231a8792-22d8-41aa-8736-b78f3ab77481",
        "outputId": "e09bf0f1-fc5d-405a-dda2-c56b90418234"
      },
      "outputs": [
        {
          "output_type": "error",
          "ename": "ValueError",
          "evalue": "'{'data': {'ids': None, 'features':      Alcohol  Malicacid   Ash  Alcalinity_of_ash  Magnesium  Total_phenols  \\\n0      14.23       1.71  2.43               15.6        127           2.80   \n1      13.20       1.78  2.14               11.2        100           2.65   \n2      13.16       2.36  2.67               18.6        101           2.80   \n3      14.37       1.95  2.50               16.8        113           3.85   \n4      13.24       2.59  2.87               21.0        118           2.80   \n..       ...        ...   ...                ...        ...            ...   \n173    13.71       5.65  2.45               20.5         95           1.68   \n174    13.40       3.91  2.48               23.0        102           1.80   \n175    13.27       4.28  2.26               20.0        120           1.59   \n176    13.17       2.59  2.37               20.0        120           1.65   \n177    14.13       4.10  2.74               24.5         96           2.05   \n\n     Flavanoids  Nonflavanoid_phenols  Proanthocyanins  Color_intensity   Hue  \\\n0          3.06                  0.28             2.29             5.64  1.04   \n1          2.76                  0.26             1.28             4.38  1.05   \n2          3.24                  0.30             2.81             5.68  1.03   \n3          3.49                  0.24             2.18             7.80  0.86   \n4          2.69                  0.39             1.82             4.32  1.04   \n..          ...                   ...              ...              ...   ...   \n173        0.61                  0.52             1.06             7.70  0.64   \n174        0.75                  0.43             1.41             7.30  0.70   \n175        0.69                  0.43             1.35            10.20  0.59   \n176        0.68                  0.53             1.46             9.30  0.60   \n177        0.76                  0.56             1.35             9.20  0.61   \n\n     0D280_0D315_of_diluted_wines  Proline  \n0                            3.92     1065  \n1                            3.40     1050  \n2                            3.17     1185  \n3                            3.45     1480  \n4                            2.93      735  \n..                            ...      ...  \n173                          1.74      740  \n174                          1.56      750  \n175                          1.56      835  \n176                          1.62      840  \n177                          1.60      560  \n\n[178 rows x 13 columns], 'targets':      class\n0        1\n1        1\n2        1\n3        1\n4        1\n..     ...\n173      3\n174      3\n175      3\n176      3\n177      3\n\n[178 rows x 1 columns], 'original':      Alcohol  Malicacid   Ash  Alcalinity_of_ash  Magnesium  Total_phenols  \\\n0      14.23       1.71  2.43               15.6        127           2.80   \n1      13.20       1.78  2.14               11.2        100           2.65   \n2      13.16       2.36  2.67               18.6        101           2.80   \n3      14.37       1.95  2.50               16.8        113           3.85   \n4      13.24       2.59  2.87               21.0        118           2.80   \n..       ...        ...   ...                ...        ...            ...   \n173    13.71       5.65  2.45               20.5         95           1.68   \n174    13.40       3.91  2.48               23.0        102           1.80   \n175    13.27       4.28  2.26               20.0        120           1.59   \n176    13.17       2.59  2.37               20.0        120           1.65   \n177    14.13       4.10  2.74               24.5         96           2.05   \n\n     Flavanoids  Nonflavanoid_phenols  Proanthocyanins  Color_intensity   Hue  \\\n0          3.06                  0.28             2.29             5.64  1.04   \n1          2.76                  0.26             1.28             4.38  1.05   \n2          3.24                  0.30             2.81             5.68  1.03   \n3          3.49                  0.24             2.18             7.80  0.86   \n4          2.69                  0.39             1.82             4.32  1.04   \n..          ...                   ...              ...              ...   ...   \n173        0.61                  0.52             1.06             7.70  0.64   \n174        0.75                  0.43             1.41             7.30  0.70   \n175        0.69                  0.43             1.35            10.20  0.59   \n176        0.68                  0.53             1.46             9.30  0.60   \n177        0.76                  0.56             1.35             9.20  0.61   \n\n     0D280_0D315_of_diluted_wines  Proline  class  \n0                            3.92     1065      1  \n1                            3.40     1050      1  \n2                            3.17     1185      1  \n3                            3.45     1480      1  \n4                            2.93      735      1  \n..                            ...      ...    ...  \n173                          1.74      740      3  \n174                          1.56      750      3  \n175                          1.56      835      3  \n176                          1.62      840      3  \n177                          1.60      560      3  \n\n[178 rows x 14 columns], 'headers': Index(['Alcohol', 'Malicacid', 'Ash', 'Alcalinity_of_ash', 'Magnesium',\n       'Total_phenols', 'Flavanoids', 'Nonflavanoid_phenols',\n       'Proanthocyanins', 'Color_intensity', 'Hue',\n       '0D280_0D315_of_diluted_wines', 'Proline', 'class'],\n      dtype='object')}, 'metadata': {'uci_id': 109, 'name': 'Wine', 'repository_url': 'https://archive.ics.uci.edu/dataset/109/wine', 'data_url': 'https://archive.ics.uci.edu/static/public/109/data.csv', 'abstract': 'Using chemical analysis to determine the origin of wines', 'area': 'Physics and Chemistry', 'tasks': ['Classification'], 'characteristics': ['Tabular'], 'num_instances': 178, 'num_features': 13, 'feature_types': ['Integer', 'Real'], 'demographics': [], 'target_col': ['class'], 'index_col': None, 'has_missing_values': 'no', 'missing_values_symbol': None, 'year_of_dataset_creation': 1992, 'last_updated': 'Mon Aug 28 2023', 'dataset_doi': '10.24432/C5PC7J', 'creators': ['Stefan Aeberhard', 'M. Forina'], 'intro_paper': {'ID': 246, 'type': 'NATIVE', 'title': 'Comparative analysis of statistical pattern recognition methods in high dimensional settings', 'authors': 'S. Aeberhard, D. Coomans, O. Vel', 'venue': 'Pattern Recognition', 'year': 1994, 'journal': None, 'DOI': '10.1016/0031-3203(94)90145-7', 'URL': 'https://www.semanticscholar.org/paper/83dc3e4030d7b9fbdbb4bde03ce12ab70ca10528', 'sha': None, 'corpus': None, 'arxiv': None, 'mag': None, 'acl': None, 'pmid': None, 'pmcid': None}, 'additional_info': {'summary': 'These data are the results of a chemical analysis of wines grown in the same region in Italy but derived from three different cultivars. The analysis determined the quantities of 13 constituents found in each of the three types of wines. \\r\\n\\r\\nI think that the initial data set had around 30 variables, but for some reason I only have the 13 dimensional version. I had a list of what the 30 or so variables were, but a.)  I lost it, and b.), I would not know which 13 variables are included in the set.\\r\\n\\r\\nThe attributes are (dontated by Riccardo Leardi, riclea@anchem.unige.it )\\r\\n1) Alcohol\\r\\n2) Malic acid\\r\\n3) Ash\\r\\n4) Alcalinity of ash  \\r\\n5) Magnesium\\r\\n6) Total phenols\\r\\n7) Flavanoids\\r\\n8) Nonflavanoid phenols\\r\\n9) Proanthocyanins\\r\\n10)Color intensity\\r\\n11)Hue\\r\\n12)OD280/OD315 of diluted wines\\r\\n13)Proline \\r\\n\\r\\nIn a classification context, this is a well posed problem with \"well behaved\" class structures. A good data set for first testing of a new classifier, but not very challenging.           ', 'purpose': 'test', 'funded_by': None, 'instances_represent': None, 'recommended_data_splits': None, 'sensitive_data': None, 'preprocessing_description': None, 'variable_info': 'All attributes are continuous\\r\\n\\t\\r\\nNo statistics available, but suggest to standardise variables for certain uses (e.g. for us with classifiers which are NOT scale invariant)\\r\\n\\r\\nNOTE: 1st attribute is class identifier (1-3)', 'citation': None}}, 'variables':                             name     role         type demographic  \\\n0                          class   Target  Categorical        None   \n1                        Alcohol  Feature   Continuous        None   \n2                      Malicacid  Feature   Continuous        None   \n3                            Ash  Feature   Continuous        None   \n4              Alcalinity_of_ash  Feature   Continuous        None   \n5                      Magnesium  Feature      Integer        None   \n6                  Total_phenols  Feature   Continuous        None   \n7                     Flavanoids  Feature   Continuous        None   \n8           Nonflavanoid_phenols  Feature   Continuous        None   \n9                Proanthocyanins  Feature   Continuous        None   \n10               Color_intensity  Feature   Continuous        None   \n11                           Hue  Feature   Continuous        None   \n12  0D280_0D315_of_diluted_wines  Feature   Continuous        None   \n13                       Proline  Feature      Integer        None   \n\n   description units missing_values  \n0         None  None             no  \n1         None  None             no  \n2         None  None             no  \n3         None  None             no  \n4         None  None             no  \n5         None  None             no  \n6         None  None             no  \n7         None  None             no  \n8         None  None             no  \n9         None  None             no  \n10        None  None             no  \n11        None  None             no  \n12        None  None             no  \n13        None  None             no  }' is not one of the example datasets.",
          "traceback": [
            "\u001b[0;31m---------------------------------------------------------------------------\u001b[0m",
            "\u001b[0;31mValueError\u001b[0m                                Traceback (most recent call last)",
            "\u001b[0;32m<ipython-input-6-63a3b0c286f1>\u001b[0m in \u001b[0;36m<cell line: 2>\u001b[0;34m()\u001b[0m\n\u001b[1;32m      1\u001b[0m \u001b[0;31m# # Data (Wine dataset)\u001b[0m\u001b[0;34m\u001b[0m\u001b[0;34m\u001b[0m\u001b[0m\n\u001b[0;32m----> 2\u001b[0;31m \u001b[0mdf\u001b[0m \u001b[0;34m=\u001b[0m \u001b[0msns\u001b[0m\u001b[0;34m.\u001b[0m\u001b[0mload_dataset\u001b[0m\u001b[0;34m(\u001b[0m\u001b[0mwine\u001b[0m\u001b[0;34m)\u001b[0m\u001b[0;34m\u001b[0m\u001b[0;34m\u001b[0m\u001b[0m\n\u001b[0m\u001b[1;32m      3\u001b[0m \u001b[0mdf\u001b[0m\u001b[0;34m\u001b[0m\u001b[0;34m\u001b[0m\u001b[0m\n",
            "\u001b[0;32m/usr/local/lib/python3.10/dist-packages/seaborn/utils.py\u001b[0m in \u001b[0;36mload_dataset\u001b[0;34m(name, cache, data_home, **kws)\u001b[0m\n\u001b[1;32m    571\u001b[0m         \u001b[0;32mif\u001b[0m \u001b[0;32mnot\u001b[0m \u001b[0mos\u001b[0m\u001b[0;34m.\u001b[0m\u001b[0mpath\u001b[0m\u001b[0;34m.\u001b[0m\u001b[0mexists\u001b[0m\u001b[0;34m(\u001b[0m\u001b[0mcache_path\u001b[0m\u001b[0;34m)\u001b[0m\u001b[0;34m:\u001b[0m\u001b[0;34m\u001b[0m\u001b[0;34m\u001b[0m\u001b[0m\n\u001b[1;32m    572\u001b[0m             \u001b[0;32mif\u001b[0m \u001b[0mname\u001b[0m \u001b[0;32mnot\u001b[0m \u001b[0;32min\u001b[0m \u001b[0mget_dataset_names\u001b[0m\u001b[0;34m(\u001b[0m\u001b[0;34m)\u001b[0m\u001b[0;34m:\u001b[0m\u001b[0;34m\u001b[0m\u001b[0;34m\u001b[0m\u001b[0m\n\u001b[0;32m--> 573\u001b[0;31m                 \u001b[0;32mraise\u001b[0m \u001b[0mValueError\u001b[0m\u001b[0;34m(\u001b[0m\u001b[0;34mf\"'{name}' is not one of the example datasets.\"\u001b[0m\u001b[0;34m)\u001b[0m\u001b[0;34m\u001b[0m\u001b[0;34m\u001b[0m\u001b[0m\n\u001b[0m\u001b[1;32m    574\u001b[0m             \u001b[0murlretrieve\u001b[0m\u001b[0;34m(\u001b[0m\u001b[0murl\u001b[0m\u001b[0;34m,\u001b[0m \u001b[0mcache_path\u001b[0m\u001b[0;34m)\u001b[0m\u001b[0;34m\u001b[0m\u001b[0;34m\u001b[0m\u001b[0m\n\u001b[1;32m    575\u001b[0m         \u001b[0mfull_path\u001b[0m \u001b[0;34m=\u001b[0m \u001b[0mcache_path\u001b[0m\u001b[0;34m\u001b[0m\u001b[0;34m\u001b[0m\u001b[0m\n",
            "\u001b[0;31mValueError\u001b[0m: '{'data': {'ids': None, 'features':      Alcohol  Malicacid   Ash  Alcalinity_of_ash  Magnesium  Total_phenols  \\\n0      14.23       1.71  2.43               15.6        127           2.80   \n1      13.20       1.78  2.14               11.2        100           2.65   \n2      13.16       2.36  2.67               18.6        101           2.80   \n3      14.37       1.95  2.50               16.8        113           3.85   \n4      13.24       2.59  2.87               21.0        118           2.80   \n..       ...        ...   ...                ...        ...            ...   \n173    13.71       5.65  2.45               20.5         95           1.68   \n174    13.40       3.91  2.48               23.0        102           1.80   \n175    13.27       4.28  2.26               20.0        120           1.59   \n176    13.17       2.59  2.37               20.0        120           1.65   \n177    14.13       4.10  2.74               24.5         96           2.05   \n\n     Flavanoids  Nonflavanoid_phenols  Proanthocyanins  Color_intensity   Hue  \\\n0          3.06                  0.28             2.29             5.64  1.04   \n1          2.76                  0.26             1.28             4.38  1.05   \n2          3.24                  0.30             2.81             5.68  1.03   \n3          3.49                  0.24             2.18             7.80  0.86   \n4          2.69                  0.39             1.82             4.32  1.04   \n..          ...                   ...              ...              ...   ...   \n173        0.61                  0.52             1.06             7.70  0.64   \n174        0.75                  0.43             1.41             7.30  0.70   \n175        0.69                  0.43             1.35            10.20  0.59   \n176        0.68                  0.53             1.46             9.30  0.60   \n177        0.76                  0.56             1.35             9.20  0.61   \n\n     0D280_0D315_of_diluted_wines  Proline  \n0                            3.92     1065  \n1                            3.40     1050  \n2                            3.17     1185  \n3                            3.45     1480  \n4                            2.93      735  \n..                            ...      ...  \n173                          1.74      740  \n174                          1.56      750  \n175                          1.56      835  \n176                          1.62      840  \n177                          1.60      560  \n\n[178 rows x 13 columns], 'targets':      class\n0        1\n1        1\n2        1\n3        1\n4        1\n..     ...\n173      3\n174      3\n175      3\n176      3\n177      3\n\n[178 rows x 1 columns], 'original':      Alcohol  Malicacid   Ash  Alcalinity_of_ash  Magnesium  Total_phenols  \\\n0      14.23       1.71  2.43               15.6        127           2.80   \n1      13.20       1.78  2.14               11.2        100           2.65   \n2      13.16       2.36  2.67               18.6        101           2.80   \n3      14.37       1.95  2.50               16.8        113           3.85   \n4      13.24       2.59  2.87               21.0        118           2.80   \n..       ...        ...   ...                ...        ...            ...   \n173    13.71       5.65  2.45               20.5         95           1.68   \n174    13.40       3.91  2.48               23.0        102           1.80   \n175    13.27       4.28  2.26               20.0        120           1.59   \n176    13.17       2.59  2.37               20.0        120           1.65   \n177    14.13       4.10  2.74               24.5         96           2.05   \n\n     Flavanoids  Nonflavanoid_phenols  Proanthocyanins  Color_intensity   Hue  \\\n0          3.06                  0.28             2.29             5.64  1.04   \n1          2.76                  0.26             1.28             4.38  1.05   \n2          3.24                  0.30             2.81             5.68  1.03   \n3          3.49                  0.24             2.18             7.80  0.86   \n4          2.69                  0.39             1.82             4.32  1.04   \n..          ...                   ...              ...              ...   ...   \n173        0.61                  0.52             1.06             7.70  0.64   \n174        0.75                  0.43             1.41             7.30  0.70   \n175        0.69                  0.43             1.35            10.20  0.59   \n176        0.68                  0.53             1.46             9.30  0.60   \n177        0.76                  0.56             1.35             9.20  0.61   \n\n     0D280_0D315_of_diluted_wines  Proline  class  \n0                            3.92     1065      1  \n1                            3.40     1050      1  \n2                            3.17     1185      1  \n3                            3.45     1480      1  \n4                            2.93      735      1  \n..                            ...      ...    ...  \n173                          1.74      740      3  \n174                          1.56      750      3  \n175                          1.56      835      3  \n176                          1.62      840      3  \n177                          1.60      560      3  \n\n[178 rows x 14 columns], 'headers': Index(['Alcohol', 'Malicacid', 'Ash', 'Alcalinity_of_ash', 'Magnesium',\n       'Total_phenols', 'Flavanoids', 'Nonflavanoid_phenols',\n       'Proanthocyanins', 'Color_intensity', 'Hue',\n       '0D280_0D315_of_diluted_wines', 'Proline', 'class'],\n      dtype='object')}, 'metadata': {'uci_id': 109, 'name': 'Wine', 'repository_url': 'https://archive.ics.uci.edu/dataset/109/wine', 'data_url': 'https://archive.ics.uci.edu/static/public/109/data.csv', 'abstract': 'Using chemical analysis to determine the origin of wines', 'area': 'Physics and Chemistry', 'tasks': ['Classification'], 'characteristics': ['Tabular'], 'num_instances': 178, 'num_features': 13, 'feature_types': ['Integer', 'Real'], 'demographics': [], 'target_col': ['class'], 'index_col': None, 'has_missing_values': 'no', 'missing_values_symbol': None, 'year_of_dataset_creation': 1992, 'last_updated': 'Mon Aug 28 2023', 'dataset_doi': '10.24432/C5PC7J', 'creators': ['Stefan Aeberhard', 'M. Forina'], 'intro_paper': {'ID': 246, 'type': 'NATIVE', 'title': 'Comparative analysis of statistical pattern recognition methods in high dimensional settings', 'authors': 'S. Aeberhard, D. Coomans, O. Vel', 'venue': 'Pattern Recognition', 'year': 1994, 'journal': None, 'DOI': '10.1016/0031-3203(94)90145-7', 'URL': 'https://www.semanticscholar.org/paper/83dc3e4030d7b9fbdbb4bde03ce12ab70ca10528', 'sha': None, 'corpus': None, 'arxiv': None, 'mag': None, 'acl': None, 'pmid': None, 'pmcid': None}, 'additional_info': {'summary': 'These data are the results of a chemical analysis of wines grown in the same region in Italy but derived from three different cultivars. The analysis determined the quantities of 13 constituents found in each of the three types of wines. \\r\\n\\r\\nI think ...\n0                          class   Target  Categorical        None   \n1                        Alcohol  Feature   Continuous        None   \n2                      Malicacid  Feature   Continuous        None   \n3                            Ash  Feature   Continuous        None   \n4              Alcalinity_of_ash  Feature   Continuous        None   \n5                      Magnesium  Feature      Integer        None   \n6                  Total_phenols  Feature   Continuous        None   \n7                     Flavanoids  Feature   Continuous        None   \n8           Nonflavanoid_phenols  Feature   Continuous        None   \n9                Proanthocyanins  Feature   Continuous        None   \n10               Color_intensity  Feature   Continuous        None   \n11                           Hue  Feature   Continuous        None   \n12  0D280_0D315_of_diluted_wines  Feature   Continuous        None   \n13                       Proline  Feature      Integer        None   \n\n   description units missing_values  \n0         None  None             no  \n1         None  None             no  \n2         None  None             no  \n3         None  None             no  \n4         None  None             no  \n5         None  None             no  \n6         None  None             no  \n7         None  None             no  \n8         None  None             no  \n9         None  None             no  \n10        None  None             no  \n11        None  None             no  \n12        None  None             no  \n13        None  None             no  }' is not one of the example datasets."
          ]
        }
      ],
      "source": [
        "# # Data (Wine dataset)\n",
        "df = sns.load_dataset(wine)\n",
        "df"
      ],
      "id": "231a8792-22d8-41aa-8736-b78f3ab77481"
    },
    {
      "cell_type": "markdown",
      "source": [
        "**The Wine Dataset**\n",
        "\n",
        "These data are the results of a chemical analysis of wines grown in the same region in Italy but derived from three different cultivars. The analysis determined the quantities of 13 constituents found in each of the three types of wines.\n",
        "\n",
        "I think that the initial data set had around 30 variables, but for some reason I only have the 13 dimensional version. I had a list of what the 30 or so variables were, but a.)  I lost it, and b.), I would not know which 13 variables are included in the set.\n",
        "\n",
        "The attributes are (dontated by Riccardo Leardi, riclea@anchem.unige.it )\n",
        "\n",
        "1) Alcohol\n",
        "\n",
        "2) Malic acid\n",
        "\n",
        "3) Ash\n",
        "\n",
        "4) Alcalinity of ash\n",
        "\n",
        "5) Magnesium\n",
        "\n",
        "6) Total phenols\n",
        "\n",
        "7) Flavanoids\n",
        "\n",
        "8) Nonflavanoid phenols\n",
        "\n",
        "9) Proanthocyanins\n",
        "\n",
        "10)Color intensity\n",
        "\n",
        "11)Hue\n",
        "\n",
        "12)OD280/OD315 of diluted wines\n",
        "\n",
        "13)Proline\n",
        "\n",
        "In a classification context, this is a well posed problem with \"well behaved\" class structures. A good data set for first testing of a new classifier, but not very challenging.           \n",
        "\n"
      ],
      "metadata": {
        "id": "mjMOHB71ylKo"
      },
      "id": "mjMOHB71ylKo"
    },
    {
      "cell_type": "markdown",
      "source": [
        "### Our Classification Task\n",
        "\n",
        "In this example, we're performing binary classification, focusing on performing a binary classification based on alcohol content and flavonoids. The task is to pick two classes and use the alcohol and flavonoids features to attempt to separate them with a linear classifier.\n",
        "\n",
        "Calculate and report accuracy on the dataset. Discuss how well the model separates the classes.\n",
        "\n",
        "Submit a Colab notebook to Moodle with your code, plots, and brief explanations for each step.\n",
        "to demonstrate a basic linear classification problem.\n",
        "\n",
        "This simplified approach allows us to visualize the decision boundary in a 2D plot, making it\n",
        "easier to understand the concept of linear classification."
      ],
      "metadata": {
        "id": "0ooQ5mjRtyvs"
      },
      "id": "0ooQ5mjRtyvs"
    },
    {
      "cell_type": "code",
      "execution_count": 7,
      "metadata": {
        "colab": {
          "base_uri": "https://localhost:8080/",
          "height": 176
        },
        "id": "2911871b-6c0a-40af-b00c-8c9b017c0c62",
        "outputId": "87bad107-df61-4901-d431-fd302cda4c0f"
      },
      "outputs": [
        {
          "output_type": "error",
          "ename": "NameError",
          "evalue": "name 'df' is not defined",
          "traceback": [
            "\u001b[0;31m---------------------------------------------------------------------------\u001b[0m",
            "\u001b[0;31mNameError\u001b[0m                                 Traceback (most recent call last)",
            "\u001b[0;32m<ipython-input-7-f9a92da8a30a>\u001b[0m in \u001b[0;36m<cell line: 7>\u001b[0;34m()\u001b[0m\n\u001b[1;32m      5\u001b[0m \u001b[0;31m# df['species'] == 'setosa'\u001b[0m\u001b[0;34m\u001b[0m\u001b[0;34m\u001b[0m\u001b[0m\n\u001b[1;32m      6\u001b[0m \u001b[0;34m\u001b[0m\u001b[0m\n\u001b[0;32m----> 7\u001b[0;31m \u001b[0mdf\u001b[0m\u001b[0;34m[\u001b[0m\u001b[0;34m'class'\u001b[0m\u001b[0;34m]\u001b[0m \u001b[0;34m==\u001b[0m \u001b[0;34m'1'\u001b[0m\u001b[0;34m\u001b[0m\u001b[0;34m\u001b[0m\u001b[0m\n\u001b[0m",
            "\u001b[0;31mNameError\u001b[0m: name 'df' is not defined"
          ]
        }
      ],
      "source": [
        "# This line creates a boolean mask.\n",
        "# It checks if each value in the 'species'\n",
        "# column of the DataFrame is equal to 'setosa'.\n",
        "\n",
        "# df['species'] == 'setosa'\n",
        "\n",
        "df['class'] == '1'"
      ],
      "id": "2911871b-6c0a-40af-b00c-8c9b017c0c62"
    },
    {
      "cell_type": "code",
      "execution_count": 12,
      "metadata": {
        "id": "4c481c8b-7c3c-4d98-af28-61d491668103",
        "colab": {
          "base_uri": "https://localhost:8080/",
          "height": 193
        },
        "outputId": "7fe22a8e-b127-443f-ff48-b2216875fb04"
      },
      "outputs": [
        {
          "output_type": "error",
          "ename": "NameError",
          "evalue": "name 'df' is not defined",
          "traceback": [
            "\u001b[0;31m---------------------------------------------------------------------------\u001b[0m",
            "\u001b[0;31mNameError\u001b[0m                                 Traceback (most recent call last)",
            "\u001b[0;32m<ipython-input-12-91090dea7747>\u001b[0m in \u001b[0;36m<cell line: 6>\u001b[0;34m()\u001b[0m\n\u001b[1;32m      4\u001b[0m \u001b[0;31m# (a Series of True/False values). The DataFrame then uses this\u001b[0m\u001b[0;34m\u001b[0m\u001b[0;34m\u001b[0m\u001b[0m\n\u001b[1;32m      5\u001b[0m \u001b[0;31m# mask to select only the rows where the mask is True.\u001b[0m\u001b[0;34m\u001b[0m\u001b[0;34m\u001b[0m\u001b[0m\n\u001b[0;32m----> 6\u001b[0;31m \u001b[0msetosa\u001b[0m \u001b[0;34m=\u001b[0m \u001b[0mdf\u001b[0m\u001b[0;34m[\u001b[0m\u001b[0mdf\u001b[0m\u001b[0;34m[\u001b[0m\u001b[0;34m'species'\u001b[0m\u001b[0;34m]\u001b[0m \u001b[0;34m==\u001b[0m \u001b[0;34m'setosa'\u001b[0m\u001b[0;34m]\u001b[0m\u001b[0;34m\u001b[0m\u001b[0;34m\u001b[0m\u001b[0m\n\u001b[0m\u001b[1;32m      7\u001b[0m \u001b[0mvirginica\u001b[0m \u001b[0;34m=\u001b[0m \u001b[0mdf\u001b[0m\u001b[0;34m[\u001b[0m\u001b[0mdf\u001b[0m\u001b[0;34m[\u001b[0m\u001b[0;34m'species'\u001b[0m\u001b[0;34m]\u001b[0m \u001b[0;34m==\u001b[0m \u001b[0;34m'virginica'\u001b[0m\u001b[0;34m]\u001b[0m\u001b[0;34m\u001b[0m\u001b[0;34m\u001b[0m\u001b[0m\n",
            "\u001b[0;31mNameError\u001b[0m: name 'df' is not defined"
          ]
        }
      ],
      "source": [
        "# Pandas boolean indexing (filtering rows)\n",
        "# selects rows where the value in the \"species\" column is equal to\n",
        "# \"Setosa\". The expression inside the brackets creates a boolean mask\n",
        "# (a Series of True/False values). The DataFrame then uses this\n",
        "# mask to select only the rows where the mask is True.\n",
        "setosa = df[df['species'] == 'setosa']\n",
        "virginica = df[df['species'] == 'virginica']"
      ],
      "id": "4c481c8b-7c3c-4d98-af28-61d491668103"
    },
    {
      "source": [
        "# Create a new figure and axis\n",
        "fig, ax = plt.subplots(figsize=(10, 6))\n",
        "\n",
        "# Plot virginica\n",
        "virginica = df[df['species'] == 'virginica']\n",
        "ax.scatter(virginica['sepal_length'], virginica['petal_length'],\n",
        "           color='blue', label='Virginica', marker='o')\n",
        "\n",
        "# Plot setosa\n",
        "setosa = df[df['species'] == 'setosa']\n",
        "ax.scatter(setosa['sepal_length'], setosa['petal_length'],\n",
        "           color='red', label='Setosa', marker='s')\n",
        "\n",
        "# Customize the plot\n",
        "ax.set_xlabel('Sepal Length (cm)')\n",
        "ax.set_ylabel('Petal Length (cm)')\n",
        "ax.set_title('Iris Classification: Virginica vs Setosa')\n",
        "ax.legend()\n",
        "\n",
        "# Show the plot\n",
        "plt.show()"
      ],
      "cell_type": "code",
      "metadata": {
        "id": "RXBhffkZvNn_"
      },
      "id": "RXBhffkZvNn_",
      "execution_count": null,
      "outputs": []
    },
    {
      "cell_type": "code",
      "execution_count": null,
      "metadata": {
        "id": "c3eec744-03b7-470b-9fb7-e7fcef6b169c"
      },
      "outputs": [],
      "source": [
        "# # mean squared error\n",
        "# def mse(actual, predicted):\n",
        "#     if len(actual) != len(predicted):\n",
        "#         raise Exception(\"actual must be the same size as predicted\")\n",
        "\n",
        "#     total = 0.0\n",
        "#     for i in range(len(actual)):\n",
        "#         total += (predicted[i] - actual[i]) * (predicted[i] - actual[i])\n",
        "#     return total / len(actual)"
      ],
      "id": "c3eec744-03b7-470b-9fb7-e7fcef6b169c"
    },
    {
      "source": [
        "# # Calculate the mean squared error for a given dataset and line\n",
        "# def mse_data(m, b, data):\n",
        "#     # Get the actual petal lengths from the data\n",
        "#     actual = list(data['petal_length'])\n",
        "\n",
        "#     # Calculate the predicted petal lengths using the line equation\n",
        "#     predicted = [m*x + b for x in list(data['sepal_length'])]\n",
        "\n",
        "#     # Return the mean squared error\n",
        "#     return mse(actual, predicted)"
      ],
      "cell_type": "code",
      "metadata": {
        "id": "dByOmb5vvzcL"
      },
      "id": "dByOmb5vvzcL",
      "execution_count": null,
      "outputs": []
    },
    {
      "source": [
        "# # Initialize the minimum error to the MSE with a horizontal line at y=0\n",
        "# min_error = mse_data(0, 0, virginica)\n",
        "\n",
        "# # Initialize the best slope and intercept\n",
        "# best_m = 0\n",
        "# best_b = 0\n",
        "\n",
        "# # Iterate over possible slopes and intercepts\n",
        "# for m in np.arange(0.0, 2.0, 0.1):\n",
        "#     for b in np.arange(0.0, 1.0, 0.1):\n",
        "#         # Calculate the error for the current line\n",
        "#         error = mse_data(m, b, virginica)\n",
        "\n",
        "#         # Update the minimum error and best parameters if the current error is lower\n",
        "#         if error < min_error:\n",
        "#             min_error = error\n",
        "#             best_m = m\n",
        "#             best_b = b\n",
        "\n",
        "# # Print the best slope and intercept\n",
        "# (best_m, best_b)"
      ],
      "cell_type": "code",
      "metadata": {
        "id": "cUjaJKkiv51r"
      },
      "id": "cUjaJKkiv51r",
      "execution_count": null,
      "outputs": []
    },
    {
      "cell_type": "code",
      "source": [
        "# # Create a new figure and axis\n",
        "# fig, ax = plt.subplots(figsize=(10, 6))\n",
        "\n",
        "# # Plot virginica\n",
        "# virginica = df[df['species'] == 'virginica']\n",
        "# ax.scatter(virginica['sepal_length'], virginica['petal_length'],\n",
        "#            color='blue', label='Virginica', marker='o')\n",
        "\n",
        "# # Plot setosa\n",
        "# setosa = df[df['species'] == 'setosa']\n",
        "# ax.scatter(setosa['sepal_length'], setosa['petal_length'],\n",
        "#            color='red', label='Setosa', marker='s')\n",
        "\n",
        "# # Create the decision boundary line using best_m and best_b\n",
        "# x = np.linspace(df['sepal_length'].min(), df['sepal_length'].max(), 100)\n",
        "# y = best_m * x + best_b\n",
        "\n",
        "# # Plot the decision boundary line\n",
        "# ax.plot(x, y, color='green', linewidth=2, label='Virginica Fit')\n",
        "\n",
        "# # Customize the plot\n",
        "# ax.set_xlabel('Sepal Length (cm)')\n",
        "# ax.set_ylabel('Petal Length (cm)')\n",
        "# ax.set_title('Iris Classification: Virginica vs Setosa')\n",
        "# ax.legend()\n",
        "\n",
        "# # Show the plot\n",
        "# plt.show()"
      ],
      "metadata": {
        "id": "EDIrAcZ80HnZ"
      },
      "id": "EDIrAcZ80HnZ",
      "execution_count": null,
      "outputs": []
    },
    {
      "cell_type": "markdown",
      "metadata": {
        "id": "7ecfc7b1-8329-4708-aecf-7483577b3074"
      },
      "source": [
        "# Brute Force linear classification\n",
        "\n",
        "- Also an introduction to vectorization"
      ],
      "id": "7ecfc7b1-8329-4708-aecf-7483577b3074"
    },
    {
      "cell_type": "code",
      "execution_count": null,
      "metadata": {
        "id": "b5562a62-3ded-4caf-9577-c416cc1e3f37"
      },
      "outputs": [],
      "source": [
        "# X = np.array(df['sepal_length'])\n",
        "# Y = np.array(df['petal_length'])"
      ],
      "id": "b5562a62-3ded-4caf-9577-c416cc1e3f37"
    },
    {
      "cell_type": "markdown",
      "source": [
        "`np.vectorize` is a function that takes a Python function and converts it into a vectorized function that can operate on NumPy arrays. This is useful for performing operations on entire arrays of data at once, rather than looping through individual elements."
      ],
      "metadata": {
        "id": "TIkojAOGwdZ0"
      },
      "id": "TIkojAOGwdZ0"
    },
    {
      "cell_type": "code",
      "execution_count": null,
      "metadata": {
        "id": "32d1f2e1-7bb1-408e-b2d8-5b6edaff1b9c"
      },
      "outputs": [],
      "source": [
        "# # Manufacture a vectorized prediction function for weights y = mx + b\n",
        "# # m and b are fixed contants when vlinear_predict is called\n",
        "# # x takes on individual values in an numpy array\n",
        "# def vlinear_predict_class(m, b):\n",
        "#     return np.vectorize(lambda x,y: float(y < (m * x + b)))"
      ],
      "id": "32d1f2e1-7bb1-408e-b2d8-5b6edaff1b9c"
    },
    {
      "cell_type": "code",
      "source": [
        "# float(True)"
      ],
      "metadata": {
        "id": "jpii8H6BP_3i"
      },
      "id": "jpii8H6BP_3i",
      "execution_count": null,
      "outputs": []
    },
    {
      "cell_type": "code",
      "execution_count": null,
      "metadata": {
        "id": "124bf969-5594-4b56-8c3f-977d157c1432"
      },
      "outputs": [],
      "source": [
        "# predictions = vlinear_predict_class(0, 0)(X,Y)\n",
        "# predictions"
      ],
      "id": "124bf969-5594-4b56-8c3f-977d157c1432"
    },
    {
      "cell_type": "code",
      "execution_count": null,
      "metadata": {
        "id": "ab3094a1-bd8d-427c-8bde-cb78a15c08be"
      },
      "outputs": [],
      "source": [
        "# actual = np.array(df['species'] == 'setosa', dtype=float)\n",
        "# actual"
      ],
      "id": "ab3094a1-bd8d-427c-8bde-cb78a15c08be"
    },
    {
      "cell_type": "code",
      "execution_count": null,
      "metadata": {
        "id": "294590c5-c4c3-4f66-bcc8-b28427be1886"
      },
      "outputs": [],
      "source": [
        "# sum(actual != predictions)"
      ],
      "id": "294590c5-c4c3-4f66-bcc8-b28427be1886"
    },
    {
      "cell_type": "code",
      "execution_count": null,
      "metadata": {
        "id": "934d95f1-a516-48e5-bf8c-6ef3aca86aca"
      },
      "outputs": [],
      "source": [
        "# # Initial prediction using a line with slope 0 and y-intercept 0\n",
        "# predictions = vlinear_predict_class(0.0, 0)(X, Y)\n",
        "\n",
        "# # Calculate initial error (number of misclassifications)\n",
        "# min_error = sum(actual != predictions)\n",
        "\n",
        "# # Initialize best parameters\n",
        "# best_m = 0\n",
        "# best_b = 0\n",
        "\n",
        "# # Nested loops to try different combinations of slope (m) and y-intercept (b)\n",
        "# for m in np.arange(0.0, 3.0, 0.1):  # Slope ranges from 0 to 3 in steps of 0.1\n",
        "#     for b in np.arange(0.0, 3.0, 0.1):  # Y-intercept ranges from 0 to 3 in steps of 0.1\n",
        "#         # Make predictions using current m and b\n",
        "#         predictions = vlinear_predict_class(m, b)(X, Y)\n",
        "\n",
        "#         # Calculate error for current prediction\n",
        "#         error = sum(actual != predictions)\n",
        "\n",
        "#         # If current error is less than minimum error found so far\n",
        "#         if error < min_error:\n",
        "#             # Update minimum error and best parameters\n",
        "#             min_error = error\n",
        "#             best_m = m\n",
        "#             best_b = b\n",
        "\n",
        "# # Return the best parameters and the minimum error achieved\n",
        "# (best_m, best_b, min_error)"
      ],
      "id": "934d95f1-a516-48e5-bf8c-6ef3aca86aca"
    },
    {
      "cell_type": "code",
      "execution_count": null,
      "metadata": {
        "colab": {
          "base_uri": "https://localhost:8080/",
          "height": 564
        },
        "id": "35d241a4-1569-4333-b08b-7940215c567e",
        "outputId": "56800eca-b612-4159-d32f-f5bee2a442aa"
      },
      "outputs": [
        {
          "output_type": "display_data",
          "data": {
            "text/plain": [
              "<Figure size 1000x600 with 1 Axes>"
            ],
            "image/png": "[encoded data removed]"
          },
          "metadata": {}
        }
      ],
      "source": [
        "# # Create a new figure and axis\n",
        "# fig, ax = plt.subplots(figsize=(10, 6))\n",
        "\n",
        "# # Plot each species separately\n",
        "# for species in ['setosa', 'virginica']:\n",
        "#     subset = df[df['species'] == species]\n",
        "#     ax.scatter(subset['sepal_length'], subset['petal_length'], label=species)\n",
        "\n",
        "# # Add the decision boundary line\n",
        "# x = np.linspace(df['sepal_length'].min(), df['sepal_length'].max(), 100)\n",
        "# y = best_m * x + best_b\n",
        "# ax.plot(x, y, 'r-', label='Decision Boundary')\n",
        "\n",
        "# # Customize the plot\n",
        "# ax.set_xlabel('Sepal Length (cm)')\n",
        "# ax.set_ylabel('Petal Length (cm)')\n",
        "# ax.set_title('Iris Species Classification')\n",
        "# ax.legend()\n",
        "\n",
        "# # Show the plot\n",
        "# plt.show()"
      ],
      "id": "35d241a4-1569-4333-b08b-7940215c567e"
    },
    {
      "cell_type": "code",
      "source": [
        "# Filter the dataframe to include only 'setosa' and 'virginica'\n",
        "df_filtered = df[df['species'].isin(['setosa', 'virginica'])]\n",
        "\n",
        "# Create binary labels: 1 for 'setosa', 0 for 'virginica'\n",
        "Y = torch.tensor((df_filtered['species'] == 'setosa').astype(float).values, dtype=torch.float32).reshape(-1, 1)\n",
        "\n",
        "# Use *BOTH* sepal_length and petal_length, not like the broken version in class!\n",
        "X = torch.tensor(df_filtered[['sepal_length', 'petal_length']].values, dtype=torch.float32)"
      ],
      "metadata": {
        "id": "Gk9c3fCanciI"
      },
      "id": "Gk9c3fCanciI",
      "execution_count": null,
      "outputs": []
    },
    {
      "cell_type": "code",
      "source": [
        "# Define the model (linear boundary)\n",
        "class LinearClassifier(torch.nn.Module):\n",
        "    def __init__(self):\n",
        "        super(LinearClassifier, self).__init__()\n",
        "        self.linear = nn.Linear(2, 1)  # 2 input features, 1 output\n",
        "    def forward(self, x):\n",
        "      return self.linear(x)\n"
      ],
      "metadata": {
        "id": "QuQ9jf0lngrD"
      },
      "id": "QuQ9jf0lngrD",
      "execution_count": null,
      "outputs": []
    },
    {
      "cell_type": "code",
      "source": [
        "# Initialize the model\n",
        "\n",
        "import torch.nn as nn\n",
        "\n",
        "# These values always require fiddling for the dataset.\n",
        "num_epochs = 10000\n",
        "learning_rate = 0.01\n",
        "\n",
        "model = LinearClassifier()\n",
        "\n",
        "# BCE stands for binary cross entropy\n",
        "# This works better than MSE (Mean squared Error) for binary classification\n",
        "# This is a change from what I did in class and we will describe this in\n",
        "# a couple of weeks. For now, it makes training the network more stable.\n",
        "criterion = nn.BCEWithLogitsLoss()\n",
        "\n",
        "# SGD is stochastic gradient descent. This is the \"step down the gradient\"\n",
        "# process I was describing in class.\n",
        "optimizer = torch.optim.SGD(model.parameters(), lr=learning_rate)"
      ],
      "metadata": {
        "id": "2FsnIav1nivx"
      },
      "id": "2FsnIav1nivx",
      "execution_count": null,
      "outputs": []
    },
    {
      "cell_type": "code",
      "source": [
        "# Training loop\n",
        "for epoch in range(num_epochs):\n",
        "    # Forward pass\n",
        "    outputs = model(X)\n",
        "    loss = criterion(outputs, Y)\n",
        "\n",
        "    # Backward pass and optimization\n",
        "    optimizer.zero_grad()\n",
        "    loss.backward()\n",
        "    optimizer.step()\n",
        "\n",
        "    # Print loss every 100 epochs\n",
        "    if (epoch + 1) % 100 == 0:\n",
        "        print(f'Epoch [{epoch+1}/{num_epochs}], Loss: {loss.item():.4f}')\n",
        "\n",
        "print(\"Training complete!\")"
      ],
      "metadata": {
        "id": "HxwaZBsSnlaa",
        "outputId": "51fe7c42-8241-47a7-910f-47e778d43994",
        "colab": {
          "base_uri": "https://localhost:8080/"
        }
      },
      "id": "HxwaZBsSnlaa",
      "execution_count": null,
      "outputs": [
        {
          "output_type": "stream",
          "name": "stdout",
          "text": [
            "Epoch [100/10000], Loss: 0.5670\n",
            "Epoch [200/10000], Loss: 0.3426\n",
            "Epoch [300/10000], Loss: 0.2360\n",
            "Epoch [400/10000], Loss: 0.1773\n",
            "Epoch [500/10000], Loss: 0.1411\n",
            "Epoch [600/10000], Loss: 0.1169\n",
            "Epoch [700/10000], Loss: 0.0996\n",
            "Epoch [800/10000], Loss: 0.0866\n",
            "Epoch [900/10000], Loss: 0.0767\n",
            "Epoch [1000/10000], Loss: 0.0687\n",
            "Epoch [1100/10000], Loss: 0.0623\n",
            "Epoch [1200/10000], Loss: 0.0569\n",
            "Epoch [1300/10000], Loss: 0.0524\n",
            "Epoch [1400/10000], Loss: 0.0485\n",
            "Epoch [1500/10000], Loss: 0.0452\n",
            "Epoch [1600/10000], Loss: 0.0423\n",
            "Epoch [1700/10000], Loss: 0.0398\n",
            "Epoch [1800/10000], Loss: 0.0375\n",
            "Epoch [1900/10000], Loss: 0.0355\n",
            "Epoch [2000/10000], Loss: 0.0337\n",
            "Epoch [2100/10000], Loss: 0.0321\n",
            "Epoch [2200/10000], Loss: 0.0306\n",
            "Epoch [2300/10000], Loss: 0.0293\n",
            "Epoch [2400/10000], Loss: 0.0280\n",
            "Epoch [2500/10000], Loss: 0.0269\n",
            "Epoch [2600/10000], Loss: 0.0259\n",
            "Epoch [2700/10000], Loss: 0.0249\n",
            "Epoch [2800/10000], Loss: 0.0240\n",
            "Epoch [2900/10000], Loss: 0.0232\n",
            "Epoch [3000/10000], Loss: 0.0224\n",
            "Epoch [3100/10000], Loss: 0.0217\n",
            "Epoch [3200/10000], Loss: 0.0210\n",
            "Epoch [3300/10000], Loss: 0.0204\n",
            "Epoch [3400/10000], Loss: 0.0198\n",
            "Epoch [3500/10000], Loss: 0.0192\n",
            "Epoch [3600/10000], Loss: 0.0187\n",
            "Epoch [3700/10000], Loss: 0.0182\n",
            "Epoch [3800/10000], Loss: 0.0177\n",
            "Epoch [3900/10000], Loss: 0.0173\n",
            "Epoch [4000/10000], Loss: 0.0168\n",
            "Epoch [4100/10000], Loss: 0.0164\n",
            "Epoch [4200/10000], Loss: 0.0160\n",
            "Epoch [4300/10000], Loss: 0.0157\n",
            "Epoch [4400/10000], Loss: 0.0153\n",
            "Epoch [4500/10000], Loss: 0.0150\n",
            "Epoch [4600/10000], Loss: 0.0146\n",
            "Epoch [4700/10000], Loss: 0.0143\n",
            "Epoch [4800/10000], Loss: 0.0140\n",
            "Epoch [4900/10000], Loss: 0.0138\n",
            "Epoch [5000/10000], Loss: 0.0135\n",
            "Epoch [5100/10000], Loss: 0.0132\n",
            "Epoch [5200/10000], Loss: 0.0130\n",
            "Epoch [5300/10000], Loss: 0.0127\n",
            "Epoch [5400/10000], Loss: 0.0125\n",
            "Epoch [5500/10000], Loss: 0.0123\n",
            "Epoch [5600/10000], Loss: 0.0121\n",
            "Epoch [5700/10000], Loss: 0.0119\n",
            "Epoch [5800/10000], Loss: 0.0117\n",
            "Epoch [5900/10000], Loss: 0.0115\n",
            "Epoch [6000/10000], Loss: 0.0113\n",
            "Epoch [6100/10000], Loss: 0.0111\n",
            "Epoch [6200/10000], Loss: 0.0109\n",
            "Epoch [6300/10000], Loss: 0.0107\n",
            "Epoch [6400/10000], Loss: 0.0106\n",
            "Epoch [6500/10000], Loss: 0.0104\n",
            "Epoch [6600/10000], Loss: 0.0103\n",
            "Epoch [6700/10000], Loss: 0.0101\n",
            "Epoch [6800/10000], Loss: 0.0100\n",
            "Epoch [6900/10000], Loss: 0.0098\n",
            "Epoch [7000/10000], Loss: 0.0097\n",
            "Epoch [7100/10000], Loss: 0.0096\n",
            "Epoch [7200/10000], Loss: 0.0094\n",
            "Epoch [7300/10000], Loss: 0.0093\n",
            "Epoch [7400/10000], Loss: 0.0092\n",
            "Epoch [7500/10000], Loss: 0.0091\n",
            "Epoch [7600/10000], Loss: 0.0089\n",
            "Epoch [7700/10000], Loss: 0.0088\n",
            "Epoch [7800/10000], Loss: 0.0087\n",
            "Epoch [7900/10000], Loss: 0.0086\n",
            "Epoch [8000/10000], Loss: 0.0085\n",
            "Epoch [8100/10000], Loss: 0.0084\n",
            "Epoch [8200/10000], Loss: 0.0083\n",
            "Epoch [8300/10000], Loss: 0.0082\n",
            "Epoch [8400/10000], Loss: 0.0081\n",
            "Epoch [8500/10000], Loss: 0.0080\n",
            "Epoch [8600/10000], Loss: 0.0079\n",
            "Epoch [8700/10000], Loss: 0.0078\n",
            "Epoch [8800/10000], Loss: 0.0077\n",
            "Epoch [8900/10000], Loss: 0.0077\n",
            "Epoch [9000/10000], Loss: 0.0076\n",
            "Epoch [9100/10000], Loss: 0.0075\n",
            "Epoch [9200/10000], Loss: 0.0074\n",
            "Epoch [9300/10000], Loss: 0.0073\n",
            "Epoch [9400/10000], Loss: 0.0073\n",
            "Epoch [9500/10000], Loss: 0.0072\n",
            "Epoch [9600/10000], Loss: 0.0071\n",
            "Epoch [9700/10000], Loss: 0.0070\n",
            "Epoch [9800/10000], Loss: 0.0070\n",
            "Epoch [9900/10000], Loss: 0.0069\n",
            "Epoch [10000/10000], Loss: 0.0068\n",
            "Training complete!\n"
          ]
        }
      ]
    },
    {
      "cell_type": "code",
      "source": [
        "# Get the weights and bias\n",
        "weights = model.linear.weight.detach().numpy()\n",
        "bias = model.linear.bias.item()\n",
        "(weights, bias)"
      ],
      "metadata": {
        "id": "c_KgWPmCgcVO",
        "outputId": "bf7ce5df-f210-4ca8-8357-e3d1e5baa16c",
        "colab": {
          "base_uri": "https://localhost:8080/"
        }
      },
      "id": "c_KgWPmCgcVO",
      "execution_count": null,
      "outputs": [
        {
          "output_type": "execute_result",
          "data": {
            "text/plain": [
              "(array([[ 1.8513116, -3.3419979]], dtype=float32), 0.6352800726890564)"
            ]
          },
          "metadata": {},
          "execution_count": 22
        }
      ]
    },
    {
      "cell_type": "code",
      "source": [
        "w1, w2 = weights[0]\n",
        "m = -w1 / w2\n",
        "b = -bias / w2\n",
        "(m, b)"
      ],
      "metadata": {
        "id": "iAH2oFhZgtxs",
        "outputId": "0547fbf9-d80b-43a9-985a-b72554bd3748",
        "colab": {
          "base_uri": "https://localhost:8080/"
        }
      },
      "id": "iAH2oFhZgtxs",
      "execution_count": null,
      "outputs": [
        {
          "output_type": "execute_result",
          "data": {
            "text/plain": [
              "(0.5539535, 0.19008990997231645)"
            ]
          },
          "metadata": {},
          "execution_count": 23
        }
      ]
    },
    {
      "cell_type": "code",
      "source": [
        "print(f\"Learned line: m = {m}, b = {b}\")\n",
        "\n",
        "# Plotting\n",
        "plt.figure(figsize=(10, 6))\n",
        "plt.scatter(df[df['species'] == 'virginica']['sepal_length'],\n",
        "            df[df['species'] == 'virginica']['petal_length'],\n",
        "            label='Virginica')\n",
        "plt.scatter(df[df['species'] == 'setosa']['sepal_length'],\n",
        "            df[df['species'] == 'setosa']['petal_length'],\n",
        "            label='Setosa')\n",
        "\n",
        "# Plot decision boundary\n",
        "x = np.linspace(0, 8, 100)\n",
        "y = m * x + b\n",
        "plt.plot(x, y, 'r-', label='Decision Boundary')\n",
        "\n",
        "plt.xlabel('Sepal Length')\n",
        "plt.ylabel('Petal Length')\n",
        "plt.legend()\n",
        "plt.title('Iris Classification with Linear Boundary')\n",
        "plt.show()\n"
      ],
      "metadata": {
        "id": "8u-d4ZNNnypM",
        "outputId": "5e938486-5975-48e7-b478-a2bddfde3846",
        "colab": {
          "base_uri": "https://localhost:8080/",
          "height": 581
        }
      },
      "id": "8u-d4ZNNnypM",
      "execution_count": null,
      "outputs": [
        {
          "output_type": "stream",
          "name": "stdout",
          "text": [
            "Learned line: m = 0.5539535284042358, b = 0.19008990997231645\n"
          ]
        },
        {
          "output_type": "display_data",
          "data": {
            "text/plain": [
              "<Figure size 1000x600 with 1 Axes>"
            ],
            "image/png": "[encoded data removed]"
          },
          "metadata": {}
        }
      ]
    }
  ],
  "metadata": {
    "accelerator": "GPU",
    "celltoolbar": "Slideshow",
    "colab": {
      "machine_shape": "hm",
      "provenance": [],
      "include_colab_link": true
    },
    "kernelspec": {
      "display_name": "Python 3",
      "name": "python3"
    },
    "language_info": {
      "codemirror_mode": {
        "name": "ipython",
        "version": 3
      },
      "file_extension": ".py",
      "mimetype": "text/x-python",
      "name": "python",
      "nbconvert_exporter": "python",
      "pygments_lexer": "ipython3",
      "version": "3.9.13"
    }
  },
  "nbformat": 4,
  "nbformat_minor": 5
}